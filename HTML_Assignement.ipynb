{
  "nbformat": 4,
  "nbformat_minor": 0,
  "metadata": {
    "colab": {
      "provenance": []
    },
    "kernelspec": {
      "name": "python3",
      "display_name": "Python 3"
    },
    "language_info": {
      "name": "python"
    }
  },
  "cells": [
    {
      "cell_type": "markdown",
      "source": [
        "#                ** HTML Basics **"
      ],
      "metadata": {
        "id": "gUbj5a0tHvfS"
      }
    },
    {
      "cell_type": "markdown",
      "source": [
        "Question 1:  Explain the basic structure of an HTML page. Why is it important to follow\n",
        "this structure?\n",
        "\n",
        "Ans: Basic Structure of HTML"
      ],
      "metadata": {
        "id": "CEWpPDNrH8OW"
      }
    },
    {
      "cell_type": "code",
      "execution_count": null,
      "metadata": {
        "id": "7E6-bbrKHlsM"
      },
      "outputs": [],
      "source": [
        "'''<!DOCTYPE html>\n",
        "<html lang=\"en\">\n",
        "  <head>\n",
        "    <meta charset=\"UTF-8\" />\n",
        "    <link rel=\"icon\" type=\"image/svg+xml\" href=\"/vite.svg\" />\n",
        "    <meta name=\"viewport\" content=\"width=device-width, initial-scale=1.0\" />\n",
        "    <title>Document</title>\n",
        "  </head>\n",
        "  <body>\n",
        "  </body>\n",
        "</html>\n",
        "'''"
      ]
    },
    {
      "cell_type": "markdown",
      "source": [
        "\n",
        "    <!DOCTYPE html>  : This line tells the browser which version of HTML we are using. THe HTML5 declaration is the current standard.\n",
        "\n",
        "\n"
      ],
      "metadata": {
        "id": "XDlhhs6BIq5Y"
      }
    },
    {
      "cell_type": "markdown",
      "source": [
        "      <html lang=\"en\"></html> : This wraps all content on the page and should include a language attribute for accessibility"
      ],
      "metadata": {
        "id": "2gc5u1m0KQZw"
      }
    },
    {
      "cell_type": "markdown",
      "source": [
        "    <head>\n",
        "        <meta charset=\"UTF-8\" />\n",
        "        <link rel=\"icon\" type=\"image/svg+xml\" href=\"/vite.svg\" />\n",
        "        <meta name=\"viewport\" content=\"width=device-width, initial-scale=1.0\" />\n",
        "        <title>Document</title>\n",
        "      </head>  :   contains meta data about the document that isn't dispalyed directly on the page , including the title that appears in browser tabs, character encoding, and viewport settings for responsive design."
      ],
      "metadata": {
        "id": "oIlaCbzRKgdy"
      }
    },
    {
      "cell_type": "markdown",
      "source": [
        "      <body> </body> : contains all the visible content users see and interact with on the webpage."
      ],
      "metadata": {
        "id": "aArrEw2-Lceu"
      }
    },
    {
      "cell_type": "markdown",
      "source": [
        " It is important to follow the structure because  :\n",
        "\n",
        " Browser Compatibility:  Following proper HTML structure ensures your page renders correctly across different browsers.\n",
        "\n",
        "\n",
        "\n",
        " Accessibility: Screen reader and other assistive technologies rely on proper HTML structure to navigate and interpret content for users with disabilities.\n",
        "\n",
        "\n",
        "\n",
        " SEO Performance: Search engines use HTML structure to understand and index your content.\n",
        "\n",
        "\n",
        "\n",
        " Maintanibility: Well-structures HTML is easier to read ,debug, and modify.When you return to code months later or when other developers work on it, clear structure saves time and reduces errors."
      ],
      "metadata": {
        "id": "c6oc4lzJL8Gd"
      }
    },
    {
      "cell_type": "markdown",
      "source": [],
      "metadata": {
        "id": "pKZUjtNCOKMi"
      }
    },
    {
      "cell_type": "markdown",
      "source": [
        "Question 2:  You’re building a small personal profile page. Which HTML tags will you\n",
        "use to highlight your name as a heading, describe yourself in a paragraph, and\n",
        "emphasize a key skill?"
      ],
      "metadata": {
        "id": "h7eLNuRvOKv8"
      }
    },
    {
      "cell_type": "markdown",
      "source": [
        "Answer:   "
      ],
      "metadata": {
        "id": "vxX3hy_9OynA"
      }
    },
    {
      "cell_type": "code",
      "source": [
        "'''\n",
        "<!DOCTYPE html>\n",
        "<html lang=\"en\">\n",
        "  <head>\n",
        "    <meta charset=\"UTF-8\" />\n",
        "    <link rel=\"icon\" type=\"image/svg+xml\" href=\"/vite.svg\" />\n",
        "    <meta name=\"viewport\" content=\"width=device-width, initial-scale=1.0\" />\n",
        "    <title>Document</title>\n",
        "  </head>\n",
        "  <body>\n",
        "   <h1>Mritunjay Kumar Singh</h1>\n",
        "\n",
        "   <p> I am a passionate Web Developer. </p>\n",
        "\n",
        "     <h3> Skills : </h3>\n",
        "      <ol>\n",
        "         <li> HTML </li>\n",
        "         <li> CSS </li>\n",
        "         <li> Java Script </li>\n",
        "         <li> React JS </li>\n",
        "      </ol>\n",
        "  </body>\n",
        "</html>\n",
        "'''"
      ],
      "metadata": {
        "id": "rbmZz2ImOxeW"
      },
      "execution_count": null,
      "outputs": []
    },
    {
      "cell_type": "markdown",
      "source": [],
      "metadata": {
        "id": "0OaWdgoeOG1z"
      }
    },
    {
      "cell_type": "markdown",
      "source": [
        "Question 3:  : Look at the code below. Can you find and fix the mistake?\n",
        "\n",
        "        <!-- This is an HTML comment\n",
        "        <h1>Welcome to my website</h1>"
      ],
      "metadata": {
        "id": "BKOMdtCIRC3N"
      }
    },
    {
      "cell_type": "markdown",
      "source": [
        "Answer:"
      ],
      "metadata": {
        "id": "53eRu3tTRMal"
      }
    },
    {
      "cell_type": "code",
      "source": [
        "'''\n",
        "<!-- This is an HTML comment -->\n",
        "    <h1>Welcome to my website</h1>\n",
        "    '''"
      ],
      "metadata": {
        "id": "Ra-O50psRPc_"
      },
      "execution_count": null,
      "outputs": []
    },
    {
      "cell_type": "markdown",
      "source": [],
      "metadata": {
        "id": "GybeWMdKROUW"
      }
    },
    {
      "cell_type": "markdown",
      "source": [
        "Question 4:  : You’re creating a form that asks the user to enter their name, select their\n",
        "country from a list, and click a button to submit. Write the HTML code for this."
      ],
      "metadata": {
        "id": "pp-QOvYDRaMQ"
      }
    },
    {
      "cell_type": "markdown",
      "source": [
        "Answer:"
      ],
      "metadata": {
        "id": "jiAVIsv_RvCP"
      }
    },
    {
      "cell_type": "code",
      "source": [
        "'''\n",
        "<!DOCTYPE html>\n",
        "<html lang=\"en\">\n",
        "  <head>\n",
        "    <meta charset=\"UTF-8\" />\n",
        "    <link rel=\"icon\" type=\"image/svg+xml\" href=\"/vite.svg\" />\n",
        "    <meta name=\"viewport\" content=\"width=device-width, initial-scale=1.0\" />\n",
        "    <title>User Info Form</title>\n",
        "  </head>\n",
        "  <body>\n",
        "   <form action=\"/submit\" method=\"POST\">\n",
        "         <label for=\"userName\">Name: </label>\n",
        "         <input type=\"text\" id=\"userName\" placeholder=\"Enter fullName\"/>\n",
        "         <select name=\"country\">\n",
        "            <option>Select Your Country</option>\n",
        "            <option>India</option>\n",
        "            <option>USA</option>\n",
        "            <option>Russia</option>\n",
        "            <option>China</option>\n",
        "            <option>Japan</option>\n",
        "        </select>\n",
        "        <button>Submit</button>\n",
        "   </form>\n",
        "  </body>\n",
        "</html>\n",
        "'''"
      ],
      "metadata": {
        "id": "VEsoHbmGRxcg"
      },
      "execution_count": null,
      "outputs": []
    },
    {
      "cell_type": "markdown",
      "source": [],
      "metadata": {
        "id": "ZXH6EZl_XGDh"
      }
    },
    {
      "cell_type": "markdown",
      "source": [
        "Question 5: Write short HTML code to show your favorite fruits in a bulleted list and\n",
        "your top 3 programming languages in a numbered list"
      ],
      "metadata": {
        "id": "ZknLOVKVXGoO"
      }
    },
    {
      "cell_type": "markdown",
      "source": [
        "Answer:"
      ],
      "metadata": {
        "id": "fHar1yZHXdsB"
      }
    },
    {
      "cell_type": "code",
      "source": [
        "'''\n",
        "<!DOCTYPE html>\n",
        "<html lang=\"en\">\n",
        "  <head>\n",
        "    <meta charset=\"UTF-8\" />\n",
        "    <link rel=\"icon\" type=\"image/svg+xml\" href=\"/vite.svg\" />\n",
        "    <meta name=\"viewport\" content=\"width=device-width, initial-scale=1.0\" />\n",
        "    <title>Lists</title>\n",
        "  </head>\n",
        "  <body>\n",
        "   <h2> Favorite Fruits </h2>\n",
        "   <ul>\n",
        "     <li>Mango</li>\n",
        "     <li>Litchi</li>\n",
        "     <li>Orange</li>\n",
        "     <li>Banana</li>\n",
        "     <li>Papaya</li>\n",
        "   </ul>\n",
        "\n",
        "   <h2>Programming Languages</h2>\n",
        "    <ol type=\"number\">\n",
        "     <li>Java</li>\n",
        "     <li>Python</li>\n",
        "     <li>C++</li>\n",
        "   </ol>\n",
        "  </body>\n",
        "</html>\n",
        "'''"
      ],
      "metadata": {
        "id": "yJHUmJuvXhWh"
      },
      "execution_count": null,
      "outputs": []
    },
    {
      "cell_type": "markdown",
      "source": [],
      "metadata": {
        "id": "SuRs0vNqXgea"
      }
    },
    {
      "cell_type": "markdown",
      "source": [
        "Question 6:Ravi wants to leave a note in his HTML file so that only other developerscan see it, not the users on the website. How should he do this? Why are such notes useful?\n"
      ],
      "metadata": {
        "id": "c_pV9s_wYx2Q"
      }
    },
    {
      "cell_type": "markdown",
      "source": [
        "Answer:"
      ],
      "metadata": {
        "id": "xJ6cT9FVZQIl"
      }
    },
    {
      "cell_type": "code",
      "source": [
        "'''\n",
        "<!DOCTYPE html>\n",
        "<html lang=\"en\">\n",
        "  <head>\n",
        "    <meta charset=\"UTF-8\" />\n",
        "    <link rel=\"icon\" type=\"image/svg+xml\" href=\"/vite.svg\" />\n",
        "    <meta name=\"viewport\" content=\"width=device-width, initial-scale=1.0\" />\n",
        "    <title>Lists</title>\n",
        "  </head>\n",
        "  <body>\n",
        "  <!-- This is a note only developer can see -->\n",
        "   <h1> Note that only developer can see </h1>\n",
        "  </body>\n",
        "</html>\n",
        "'''"
      ],
      "metadata": {
        "id": "yIvrwJGbZmz4"
      },
      "execution_count": null,
      "outputs": []
    },
    {
      "cell_type": "markdown",
      "source": [
        "Calrify Intent: Explain how does the code work\n",
        "\n",
        "Team communication: Help other developers understand structure, logic, or future plans.\n",
        "\n",
        "\n",
        "Debugging aid: Mark areas that need review, testing, or cleanup.\n",
        "\n"
      ],
      "metadata": {
        "id": "0_1b2N0ZZ8m0"
      }
    },
    {
      "cell_type": "markdown",
      "source": [],
      "metadata": {
        "id": "XpOC4xBxaXWj"
      }
    },
    {
      "cell_type": "markdown",
      "source": [
        "Question 7:  Here’s a form snippet. Can you spot the error and rewrite the correct version?\n",
        "\n",
        "                            <form>\n",
        "                              <input name=\"email\">\n",
        "                              <select>\n",
        "                              <option>India</option>\n",
        "                              </select>\n",
        "                              <button>Send</buton>\n",
        "                            </form>\n"
      ],
      "metadata": {
        "id": "NLsM_tEJaX29"
      }
    },
    {
      "cell_type": "markdown",
      "source": [
        "Answer:\n",
        "        Error is in the button section\n",
        "\n",
        "       <select> is missing a name attribute, which is needed to submit the selected value.\n",
        "\n",
        "      <input> is missing a type and a placeholder for clarity.\n"
      ],
      "metadata": {
        "id": "-P7pnCZEastX"
      }
    },
    {
      "cell_type": "code",
      "source": [
        "             '''\n",
        "             <!DOCTYPE html>\n",
        "              <html>\n",
        "              <head>\n",
        "                <title>Favorites</title>\n",
        "              </head>\n",
        "              <body>\n",
        "                <form>\n",
        "                  <input type=\"email\" name=\"email\" placeholder=\"Enter your email\" required />\n",
        "\n",
        "                  <select name=\"country\" required>\n",
        "                    <option>Select Country</option>\n",
        "                    <option>India</option>\n",
        "                    <option>USA</option>\n",
        "                    <option>UK</option>\n",
        "                  </select>\n",
        "                  <button type=\"submit\">Send</button>\n",
        "              </form>\n",
        "              </body>\n",
        "              </html>\n",
        "              '''\n",
        ""
      ],
      "metadata": {
        "id": "X_qRySZOauRp"
      },
      "execution_count": null,
      "outputs": []
    }
  ]
}